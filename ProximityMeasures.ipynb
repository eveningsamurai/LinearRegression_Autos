{
 "cells": [
  {
   "cell_type": "markdown",
   "metadata": {},
   "source": [
    "### Euclidean Distance\n",
    "Euclidean distance is the most common use of distance. When data is dense or continuous, this is the best proximity measure. Distance between two points is given by the Pythagorean theorem"
   ]
  },
  {
   "cell_type": "code",
   "execution_count": 5,
   "metadata": {
    "collapsed": false
   },
   "outputs": [
    {
     "name": "stdout",
     "output_type": "stream",
     "text": [
      "euclidean proximity measure for rattlesnake and boa constrictor: 1.4142135623730951\n",
      "euclidean proximity measure for rattlesnake and dart frog: 4.242640687119285\n"
     ]
    }
   ],
   "source": [
    "from math import *\n",
    "\n",
    "def euclidean_distance(x, y):\n",
    "    return sqrt(sum(pow(a-b, 2) for a, b in zip(x, y)))\n",
    "\n",
    "print(\"euclidean proximity measure for rattlesnake and boa constrictor: \" + str(euclidean_distance([1,1,1,1,0], [0,1,0,1,0])))\n",
    "print(\"euclidean proximity measure for rattlesnake and dart frog: \" + str(euclidean_distance([1,1,1,1,0], [1,0,1,0,4])))"
   ]
  },
  {
   "cell_type": "markdown",
   "metadata": {},
   "source": [
    "### Manhattan Distance\n",
    "Manhattan distance is a metric in which distance between two points is the sum of the absolute differences of their cartesian coordinates. Simply it is the absolute sum of difference between the x and y coordinates"
   ]
  },
  {
   "cell_type": "code",
   "execution_count": 9,
   "metadata": {
    "collapsed": false
   },
   "outputs": [
    {
     "name": "stdout",
     "output_type": "stream",
     "text": [
      "manhattan distance measure for rattlesnake and boa constrictor: 2\n",
      "manhattan distance measure for rattlesnake and dart frog: 6\n"
     ]
    }
   ],
   "source": [
    "from math import *\n",
    "\n",
    "def manhattan_distance(x, y):\n",
    "    return sum(abs(a-b) for a, b in zip(x, y))\n",
    "\n",
    "print(\"manhattan distance measure for rattlesnake and boa constrictor: \" + str(manhattan_distance([1,1,1,1,0], [0,1,0,1,0])))\n",
    "print(\"manhattan distance measure for rattlesnake and dart frog: \" + str(manhattan_distance([1,1,1,1,0], [1,0,1,0,4])))"
   ]
  },
  {
   "cell_type": "markdown",
   "metadata": {},
   "source": [
    "### Minkowski Distance\n",
    "Minkowski distance is a generalized metric form of Euclidean and Manhattan distance\n",
    "\n",
    "Synonyms of Minkowski:\n",
    "* p = 1 is the Manhattan distance. Synonyms are L1-Norm, Taxicab, City-Block\n",
    "* p = 2 is the Euclidean distance. Synonyms are L2-Norm or Ruler distance.\n",
    "* p = Infinity is the Chebyshev distance. Synonyms are Lmax-norm or chessboard distance."
   ]
  },
  {
   "cell_type": "code",
   "execution_count": 11,
   "metadata": {
    "collapsed": false
   },
   "outputs": [
    {
     "name": "stdout",
     "output_type": "stream",
     "text": [
      "minkowski distance measure with p=1 for rattlesnake and boa constrictor: 2.0\n",
      "minkowski distance measure with p=1 for rattlesnake and dart frog: 6.0\n",
      "minkowski distance measure with p=2 for rattlesnake and boa constrictor: 1.4142135623730951\n",
      "minkowski distance measure with p=2 for rattlesnake and dart frog: 4.242640687119285\n"
     ]
    }
   ],
   "source": [
    "from math import *\n",
    "from decimal import Decimal\n",
    "\n",
    "def minkowski_distance(x, y, p):\n",
    "    return pow(sum(pow(abs(a-b), p) for a, b in zip(x, y)), 1/float(p))\n",
    "\n",
    "# minkowski distance with p=1 should be equal to manhattan distance\n",
    "print(\"minkowski distance measure with p=1 for rattlesnake and boa constrictor: \" + str(minkowski_distance([1,1,1,1,0], [0,1,0,1,0], 1)))\n",
    "print(\"minkowski distance measure with p=1 for rattlesnake and dart frog: \" + str(minkowski_distance([1,1,1,1,0], [1,0,1,0,4], 1)))\n",
    "\n",
    "# minkowski distance with p=2 should be equal to euclidean distance\n",
    "print(\"minkowski distance measure with p=2 for rattlesnake and boa constrictor: \" + str(minkowski_distance([1,1,1,1,0], [0,1,0,1,0], 2)))\n",
    "print(\"minkowski distance measure with p=2 for rattlesnake and dart frog: \" + str(minkowski_distance([1,1,1,1,0], [1,0,1,0,4], 2)))"
   ]
  },
  {
   "cell_type": "markdown",
   "metadata": {},
   "source": [
    "### Cosine Similarity\n",
    "Cosine similarity metric finds the normalized dot product of the 2 attributes. By determining the cosine similarity, we would effectively try to find the cosine of the angle between the two objects. The cosine of 0-degree is 1 and it is less than 1 for any other angle. It is this a judgement of orientation and not magnitude\n",
    "\n",
    "Cosine similarity is very efficient to evaluate, especially for sparse vectors\n",
    "Cosine similarity is calculated by dividing the dot product of 2 vectors by the product of the length of each vector\n",
    "\n",
    "* Cosine similarity: http://blog.christianperone.com/2013/09/machine-learning-cosine-similarity-for-vector-space-models-part-iii/\n",
    "* Dot product: https://www.khanacademy.org/math/linear-algebra/vectors-and-spaces/dot-cross-products/v/dot-and-cross-product-comparison-intuition\n",
    "* Length of vectors: https://chortle.ccsu.edu/VectorLessons/vch04/vch04_8.html\n"
   ]
  },
  {
   "cell_type": "code",
   "execution_count": 19,
   "metadata": {
    "collapsed": false
   },
   "outputs": [
    {
     "name": "stdout",
     "output_type": "stream",
     "text": [
      "cosine similarity measure for rattlesnake and boa constrictor: 0.7071067811865475\n",
      "cosine similarity measure for rattlesnake and dart frog: 0.23570226039551587\n"
     ]
    }
   ],
   "source": [
    "from math import *\n",
    "\n",
    "def vector_length(v):\n",
    "    return sqrt(sum(elt*elt for elt in v))\n",
    "\n",
    "def dot_product(x, y):\n",
    "    return sum(a*b for a,b in zip(x, y))\n",
    "    \n",
    "def cosine_similarity(x, y):\n",
    "    return dot_product(x, y)/(vector_length(x)*vector_length(y))\n",
    "\n",
    "print(\"cosine similarity measure for rattlesnake and boa constrictor: \" + str(cosine_similarity([1,1,1,1,0], [0,1,0,1,0])))\n",
    "print(\"cosine similarity measure for rattlesnake and dart frog: \" + str(cosine_similarity([1,1,1,1,0], [1,0,1,0,4])))"
   ]
  },
  {
   "cell_type": "markdown",
   "metadata": {},
   "source": [
    "### Jaccard Similarity\n",
    "Jaccard similarity measures the similarity between finite sample sets and is defined as the cardinality of the intersection of sets divided by the cardinality of the union of the sample sets."
   ]
  },
  {
   "cell_type": "code",
   "execution_count": 20,
   "metadata": {
    "collapsed": false
   },
   "outputs": [
    {
     "name": "stdout",
     "output_type": "stream",
     "text": [
      "jaccard similarity measure for rattlesnake and boa constrictor: 1.0\n",
      "jaccard similarity measure for rattlesnake and dart frog: 1.5\n"
     ]
    }
   ],
   "source": [
    "from math import *\n",
    "\n",
    "def jaccard_similarity(x, y):\n",
    "    intersection_cardinality = len(set(x) | set(y))\n",
    "    union_cardinality = len(set(x) & set(y))\n",
    "    \n",
    "    return intersection_cardinality/union_cardinality\n",
    "\n",
    "print(\"jaccard similarity measure for rattlesnake and boa constrictor: \" + str(jaccard_similarity([1,1,1,1,0], [0,1,0,1,0])))\n",
    "print(\"jaccard similarity measure for rattlesnake and dart frog: \" + str(jaccard_similarity([1,1,1,1,0], [1,0,1,0,4])))"
   ]
  },
  {
   "cell_type": "code",
   "execution_count": null,
   "metadata": {
    "collapsed": true
   },
   "outputs": [],
   "source": []
  }
 ],
 "metadata": {
  "anaconda-cloud": {},
  "kernelspec": {
   "display_name": "Python [conda env:py3k]",
   "language": "python",
   "name": "conda-env-py3k-py"
  },
  "language_info": {
   "codemirror_mode": {
    "name": "ipython",
    "version": 3
   },
   "file_extension": ".py",
   "mimetype": "text/x-python",
   "name": "python",
   "nbconvert_exporter": "python",
   "pygments_lexer": "ipython3",
   "version": "3.5.2"
  }
 },
 "nbformat": 4,
 "nbformat_minor": 1
}
