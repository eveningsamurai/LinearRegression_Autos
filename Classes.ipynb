{
 "cells": [
  {
   "cell_type": "code",
   "execution_count": 4,
   "metadata": {
    "collapsed": false
   },
   "outputs": [
    {
     "name": "stdout",
     "output_type": "stream",
     "text": [
      "5:30\n",
      "10:30\n"
     ]
    }
   ],
   "source": [
    "class Clock(object):\n",
    "    def __init__(self, time):\n",
    "        self.time = time\n",
    "    \n",
    "    def print_time(self):\n",
    "        time = '6:30'\n",
    "        print(self.time)\n",
    "        \n",
    "clock = Clock('5:30')\n",
    "clock.print_time()\n",
    "\n",
    "boston_clock = Clock('5:30')\n",
    "paris_clock = boston_clock\n",
    "paris_clock.time = '10:30'\n",
    "boston_clock.print_time()"
   ]
  },
  {
   "cell_type": "code",
   "execution_count": 3,
   "metadata": {
    "collapsed": false
   },
   "outputs": [
    {
     "name": "stdout",
     "output_type": "stream",
     "text": [
      "5:30\n"
     ]
    }
   ],
   "source": [
    "class Clock(object):\n",
    "    def __init__(self, time):\n",
    "        self.time = time\n",
    "    \n",
    "    def print_time(self, time):\n",
    "        time = '6:30'\n",
    "        print(self.time)\n",
    "        \n",
    "clock = Clock('5:30')\n",
    "clock.print_time('10:30')"
   ]
  },
  {
   "cell_type": "code",
   "execution_count": 9,
   "metadata": {
    "collapsed": false
   },
   "outputs": [
    {
     "name": "stdout",
     "output_type": "stream",
     "text": [
      "1 / 2\n",
      "7 / 6\n",
      "1 / 6\n"
     ]
    },
    {
     "data": {
      "text/plain": [
       "0.67"
      ]
     },
     "execution_count": 9,
     "metadata": {},
     "output_type": "execute_result"
    }
   ],
   "source": [
    "class Fraction(object):\n",
    "    def __init__(self, numer, denom):\n",
    "        self.numer = numer\n",
    "        self.denom = denom\n",
    "        \n",
    "    def __str__(self):\n",
    "        return str(self.numer) + \" / \" + str(self.denom)\n",
    "    \n",
    "    def getNumer(self):\n",
    "        return self.numer\n",
    "    \n",
    "    def getDenom(self):\n",
    "        return self.denom\n",
    "    \n",
    "    def __add__(self, other):\n",
    "        numerNew = (other.denom * self.numer) + (self.denom * other.numer)\n",
    "        denomNew = other.denom * self.denom\n",
    "        \n",
    "        return Fraction(numerNew, denomNew)\n",
    "    \n",
    "    def __sub__(self, other):\n",
    "        numerNew = (other.denom * self.numer) - (self.denom * other.numer)\n",
    "        denomNew = other.denom * self.denom\n",
    "        \n",
    "        return Fraction(numerNew, denomNew)\n",
    "    \n",
    "    def convert(self):\n",
    "        return round(self.numer/self.denom, 2)\n",
    "    \n",
    "oneHalf = Fraction(1, 2)\n",
    "twoThirds = Fraction(2, 3)\n",
    "print(oneHalf)\n",
    "print(oneHalf + twoThirds)\n",
    "print(twoThirds - oneHalf)\n",
    "twoThirds.convert()"
   ]
  },
  {
   "cell_type": "code",
   "execution_count": 17,
   "metadata": {
    "collapsed": false
   },
   "outputs": [
    {
     "name": "stdout",
     "output_type": "stream",
     "text": [
      "(1, 2, 3, 7, 8, 9)\n",
      "(1, 2, 3, 8, 9)\n"
     ]
    },
    {
     "data": {
      "text/plain": [
       "True"
      ]
     },
     "execution_count": 17,
     "metadata": {},
     "output_type": "execute_result"
    }
   ],
   "source": [
    "class IntSet(object):\n",
    "    def __init__(self):\n",
    "        self.vals = []\n",
    "        \n",
    "    def insert(self, val):\n",
    "        if val not in self.vals:\n",
    "            self.vals.append(val)\n",
    "            \n",
    "    def remove(self, val):\n",
    "        if val not in self.vals:\n",
    "            raise ValueError(str(val) + ' not found')\n",
    "        self.vals.remove(val)\n",
    "        \n",
    "    def member(self, val):\n",
    "        return val in self.vals\n",
    "    \n",
    "    def __str__(self):\n",
    "        self.vals.sort()\n",
    "        result = ''\n",
    "        for val in self.vals:\n",
    "            result += str(val) + ', '\n",
    "        \n",
    "        return \"(\" + result[:-2] + \")\"\n",
    "    \n",
    "s = IntSet()\n",
    "s.vals = [1, 2, 3]\n",
    "s.insert(9)\n",
    "s.insert(8)\n",
    "s.insert(7)\n",
    "s.insert(9)\n",
    "print(s)\n",
    "s.remove(7)\n",
    "print(s)\n",
    "s.member(val=9)\n",
    "#s.remove(10) will throw a ValueError with the message as specified"
   ]
  },
  {
   "cell_type": "code",
   "execution_count": 22,
   "metadata": {
    "collapsed": false
   },
   "outputs": [
    {
     "name": "stdout",
     "output_type": "stream",
     "text": [
      "<3, 4>\n"
     ]
    }
   ],
   "source": [
    "class Coordinate(object):\n",
    "    def __init__(self, x, y):\n",
    "        self.x = x\n",
    "        self.y = y\n",
    "    \n",
    "    def getX(self):\n",
    "        return self.x\n",
    "    \n",
    "    def getY(self):\n",
    "        return self.y\n",
    "    \n",
    "    def __str__(self):\n",
    "        return \"<\" + str(self.getX()) + \", \" + str(self.getY()) + \">\"\n",
    "    \n",
    "    #http://stackoverflow.com/questions/452300/python-object-repr-self-should-be-an-expression\n",
    "    def __repr__(self):\n",
    "        return \"Coordinate({}, {})\".format(self.getX(), self.getY())\n",
    "\n",
    "c = Coordinate(3, 4)\n",
    "origin = Coordinate(0, 0)\n",
    "print(c)"
   ]
  },
  {
   "cell_type": "code",
   "execution_count": 23,
   "metadata": {
    "collapsed": false
   },
   "outputs": [
    {
     "data": {
      "text/plain": [
       "'Coordinate(3, 4)'"
      ]
     },
     "execution_count": 23,
     "metadata": {},
     "output_type": "execute_result"
    }
   ],
   "source": [
    "repr(c)"
   ]
  },
  {
   "cell_type": "code",
   "execution_count": 24,
   "metadata": {
    "collapsed": false
   },
   "outputs": [
    {
     "data": {
      "text/plain": [
       "Coordinate(3, 4)"
      ]
     },
     "execution_count": 24,
     "metadata": {},
     "output_type": "execute_result"
    }
   ],
   "source": [
    "eval(_)"
   ]
  },
  {
   "cell_type": "code",
   "execution_count": 26,
   "metadata": {
    "collapsed": false
   },
   "outputs": [
    {
     "name": "stdout",
     "output_type": "stream",
     "text": [
      "<3, 4>\n"
     ]
    }
   ],
   "source": [
    "new_c = repr(c)\n",
    "print(eval(new_c))"
   ]
  },
  {
   "cell_type": "code",
   "execution_count": 40,
   "metadata": {
    "collapsed": false
   },
   "outputs": [
    {
     "name": "stdout",
     "output_type": "stream",
     "text": [
      "Avinash Padmanabhan:37\n",
      "Avinash Padmanabhan:37:Computer Science\n"
     ]
    }
   ],
   "source": [
    "class Animal(object):\n",
    "    def __init__(self, age):\n",
    "        self.age = age\n",
    "        self.name = None\n",
    "    \n",
    "    def set_name(self, name):\n",
    "        self.name = name\n",
    "        \n",
    "    def __str__(self):\n",
    "        return str(self.name) + \":\" + str(self.age)\n",
    "        \n",
    "class Person(Animal):\n",
    "    def __init__(self, name, age):\n",
    "        Animal.__init__(self, age)\n",
    "        Animal.set_name(self, name)\n",
    "        self.friends = []\n",
    "        \n",
    "class Student(Person):\n",
    "    def __init__(self, name, age, major=None):\n",
    "        Person.__init__(self, name, age)\n",
    "        self.major = major\n",
    "        \n",
    "    def change_major(self, major):\n",
    "        self.major = major\n",
    "        \n",
    "    def __str__(self):\n",
    "        return Person.__str__(self) + \":\" + str(self.major)\n",
    "        \n",
    "p1 = Person(\"Avinash Padmanabhan\", 37)\n",
    "print(p1)\n",
    "s1 = Student(\"Avinash Padmanabhan\", 37)\n",
    "s1.change_major(\"Computer Science\")\n",
    "print(s1)"
   ]
  },
  {
   "cell_type": "code",
   "execution_count": 41,
   "metadata": {
    "collapsed": true
   },
   "outputs": [],
   "source": [
    "import datetime\n",
    "\n",
    "class Person(object):\n",
    "    def __init__(self, name):\n",
    "        \"\"\"create a person called name\"\"\"\n",
    "        self.name = name\n",
    "        self.birthday = None\n",
    "        self.last_name = name.split(' ')[-1]\n",
    "        \n",
    "    def setBirthday(self, year, month, day):\n",
    "        \"\"\"set self's birthday to birth date\"\"\"\n",
    "        self.birthday = datetime.date(year, month, day)\n",
    "        \n",
    "    def getAge(self):\n",
    "        if self.birthday == None:\n",
    "            raise ValueError\n",
    "        return (datetime.date.today() - self.birthday).days"
   ]
  },
  {
   "cell_type": "code",
   "execution_count": 44,
   "metadata": {
    "collapsed": false
   },
   "outputs": [
    {
     "name": "stdout",
     "output_type": "stream",
     "text": [
      "1\n",
      "2\n",
      "1\n",
      "2\n",
      "3\n"
     ]
    }
   ],
   "source": [
    "def genTest():\n",
    "    yield 1\n",
    "    yield 2\n",
    "\n",
    "gen = genTest()\n",
    "print(gen.__next__())\n",
    "print(gen.__next__())\n",
    "#print(gen.__next__()) this will throw a StopIteration error nothing more to read\n",
    "\n",
    "for n in genTest():\n",
    "    print(n)"
   ]
  },
  {
   "cell_type": "code",
   "execution_count": 3,
   "metadata": {
    "collapsed": false
   },
   "outputs": [
    {
     "name": "stdout",
     "output_type": "stream",
     "text": [
      "1\n",
      "2\n",
      "3\n",
      "5\n",
      "8\n"
     ]
    }
   ],
   "source": [
    "def genFib():\n",
    "    \"\"\"\n",
    "    genFib generates a sequence of fibonacci numbers using a yield/generator\n",
    "    \"\"\"\n",
    "    fibn1 = 1\n",
    "    fibn2 = 2\n",
    "    yield fibn1\n",
    "    yield fibn2\n",
    "    while True:\n",
    "        next = fibn1 + fibn2\n",
    "        yield next\n",
    "        fibn1 = fibn2\n",
    "        fibn2 = next\n",
    "\n",
    "fib = genFib()\n",
    "print(fib.__next__())\n",
    "print(fib.__next__())\n",
    "print(fib.__next__())\n",
    "print(fib.__next__())\n",
    "print(fib.__next__())\n",
    "    "
   ]
  },
  {
   "cell_type": "code",
   "execution_count": 8,
   "metadata": {
    "collapsed": false
   },
   "outputs": [
    {
     "name": "stdout",
     "output_type": "stream",
     "text": [
      "2\n",
      "3\n",
      "5\n",
      "7\n",
      "11\n"
     ]
    }
   ],
   "source": [
    "def genPrimes():\n",
    "    \"\"\"\n",
    "    genPrimes returns a sequence of prime numbers on successive calls to it next() method: 2, 3, 5, 7, 11\n",
    "    \"\"\"\n",
    "    primes = []\n",
    "    prime1 = 1\n",
    "    prime2 = 2\n",
    "    \n",
    "    primes.append(prime2)\n",
    "    yield prime2\n",
    "\n",
    "    start = 3\n",
    "    while True:\n",
    "        isNotPrime = False\n",
    "        for prime in primes:\n",
    "            if start%prime == 0:\n",
    "                isNotPrime = True\n",
    "        if not isNotPrime:\n",
    "            primes.append(start)\n",
    "            yield start\n",
    "        start += 1\n",
    "\n",
    "primes = genPrimes()\n",
    "print(primes.__next__())\n",
    "print(primes.__next__())\n",
    "print(primes.__next__())\n",
    "print(primes.__next__())    \n",
    "print(primes.__next__())    "
   ]
  },
  {
   "cell_type": "markdown",
   "metadata": {},
   "source": [
    "### for...else, while...else\n",
    "#### good link to read: https://shahriar.svbtle.com/pythons-else-clause-in-loops\n",
    "\n",
    "Both for and while loops in Python also take an optional else suite (like the if statement and the try statement do), which executes if the loop iteration completes normally. In other words, the else suite will be executed if we don’t exit the loop in any way other than its natural way. So, no break statements, no return statement, or no exceptions being raised inside the loop."
   ]
  },
  {
   "cell_type": "code",
   "execution_count": 9,
   "metadata": {
    "collapsed": false
   },
   "outputs": [
    {
     "name": "stdout",
     "output_type": "stream",
     "text": [
      "0\n",
      "1\n",
      "2\n",
      "3\n",
      "4\n",
      "Loop completed normally!\n"
     ]
    }
   ],
   "source": [
    "for n in range(5):\n",
    "    print(n)\n",
    "else:\n",
    "    print(\"Loop completed normally!\") # this statement will be executed"
   ]
  },
  {
   "cell_type": "code",
   "execution_count": 10,
   "metadata": {
    "collapsed": false
   },
   "outputs": [
    {
     "name": "stdout",
     "output_type": "stream",
     "text": [
      "0\n",
      "1\n",
      "2\n",
      "3\n"
     ]
    }
   ],
   "source": [
    "for n in range(5):\n",
    "    if n>3:\n",
    "        break\n",
    "    print(n)\n",
    "else:\n",
    "    print(\"Loop did not exit normally\") # this statement will not be executed because of the 'break'"
   ]
  },
  {
   "cell_type": "code",
   "execution_count": 12,
   "metadata": {
    "collapsed": false
   },
   "outputs": [
    {
     "name": "stdout",
     "output_type": "stream",
     "text": [
      "0\n",
      "1\n",
      "2\n",
      "3\n",
      "4\n",
      "Loop did exit normally\n"
     ]
    }
   ],
   "source": [
    "for n in range(5):\n",
    "    if n>5:\n",
    "        break\n",
    "    print(n)\n",
    "else:\n",
    "    print(\"Loop did exit normally\") # this will be executed because 'break' did not get invoked"
   ]
  },
  {
   "cell_type": "code",
   "execution_count": null,
   "metadata": {
    "collapsed": true
   },
   "outputs": [],
   "source": []
  }
 ],
 "metadata": {
  "anaconda-cloud": {},
  "kernelspec": {
   "display_name": "Python [conda env:py3k]",
   "language": "python",
   "name": "conda-env-py3k-py"
  },
  "language_info": {
   "codemirror_mode": {
    "name": "ipython",
    "version": 3
   },
   "file_extension": ".py",
   "mimetype": "text/x-python",
   "name": "python",
   "nbconvert_exporter": "python",
   "pygments_lexer": "ipython3",
   "version": "3.5.2"
  }
 },
 "nbformat": 4,
 "nbformat_minor": 1
}
